{
 "metadata": {
  "name": "",
  "signature": "sha256:8b99b1c18dd468ac4da8b57242eb3d0a169ac85e70230d307cf2549f109b96f4"
 },
 "nbformat": 3,
 "nbformat_minor": 0,
 "worksheets": [
  {
   "cells": [
    {
     "cell_type": "code",
     "collapsed": false,
     "input": [
      "from bs4 import BeautifulSoup\n",
      "import urllib2\n",
      "\n",
      "url = \"http://www.i18nguy.com/unicode-example.html\"\n",
      "\n",
      "page = urllib2.urlopen(url)\n",
      "page1 = page.read()\n",
      "soup = BeautifulSoup(page1)"
     ],
     "language": "python",
     "metadata": {},
     "outputs": [],
     "prompt_number": 31
    },
    {
     "cell_type": "code",
     "collapsed": false,
     "input": [
      "tables = soup.find_all('tr')\n",
      "\n",
      "chinese = []\n",
      "for t in tables:\n",
      "    chinese += (t.find_all('td', {'class': 'native', 'lang': 'zh-TW'}))\n",
      "    \n",
      "chinese = [c.get_text() for c in chinese]"
     ],
     "language": "python",
     "metadata": {},
     "outputs": [],
     "prompt_number": 14
    },
    {
     "cell_type": "code",
     "collapsed": false,
     "input": [
      "print chinese"
     ],
     "language": "python",
     "metadata": {},
     "outputs": [
      {
       "output_type": "stream",
       "stream": "stdout",
       "text": [
        "[u'\\u81fa\\u7063', u'\\u8212\\u6dc7', u'\\u81fa\\u7063', u'\\u674e\\u5b89']\n"
       ]
      }
     ],
     "prompt_number": 15
    },
    {
     "cell_type": "code",
     "collapsed": false,
     "input": [
      "for text in chinese:\n",
      "    print repr(text)\n",
      "    print repr(text.encode('utf-8'))"
     ],
     "language": "python",
     "metadata": {},
     "outputs": [
      {
       "output_type": "stream",
       "stream": "stdout",
       "text": [
        "u'\\u81fa\\u7063'\n",
        "'\\xe8\\x87\\xba\\xe7\\x81\\xa3'\n",
        "u'\\u8212\\u6dc7'\n",
        "'\\xe8\\x88\\x92\\xe6\\xb7\\x87'\n",
        "u'\\u81fa\\u7063'\n",
        "'\\xe8\\x87\\xba\\xe7\\x81\\xa3'\n",
        "u'\\u674e\\u5b89'\n",
        "'\\xe6\\x9d\\x8e\\xe5\\xae\\x89'\n"
       ]
      }
     ],
     "prompt_number": 23
    },
    {
     "cell_type": "code",
     "collapsed": false,
     "input": [
      "print repr(u'\u81fa\u7063')"
     ],
     "language": "python",
     "metadata": {},
     "outputs": [
      {
       "output_type": "stream",
       "stream": "stdout",
       "text": [
        "u'\\u81fa\\u7063'\n"
       ]
      }
     ],
     "prompt_number": 22
    },
    {
     "cell_type": "code",
     "collapsed": false,
     "input": [
      "with open('chinese.txt', 'w') as output:\n",
      "    for text in chinese:\n",
      "        print >> output, text.encode('utf-8')"
     ],
     "language": "python",
     "metadata": {},
     "outputs": [],
     "prompt_number": 25
    },
    {
     "cell_type": "code",
     "collapsed": false,
     "input": [
      "import codecs\n",
      "\n",
      "with codecs.open('chinese.txt', 'w', encoding='utf-8') as output:\n",
      "    for text in chinese:\n",
      "        print >> output, text"
     ],
     "language": "python",
     "metadata": {},
     "outputs": [],
     "prompt_number": 27
    }
   ],
   "metadata": {}
  }
 ]
}