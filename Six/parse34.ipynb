{
 "metadata": {
  "name": "",
  "signature": "sha256:28ba82af3ee78c9f0777b279cc5deff61d90612b7c95e6e4d474fdf3ebcfde8d"
 },
 "nbformat": 3,
 "nbformat_minor": 0,
 "worksheets": [
  {
   "cells": [
    {
     "cell_type": "code",
     "collapsed": false,
     "input": [
      "from bs4 import BeautifulSoup\n",
      "from urllib.request import urlopen\n",
      "\n",
      "url = \"http://www.i18nguy.com/unicode-example.html\"\n",
      "\n",
      "page = urlopen(url)\n",
      "soup = BeautifulSoup(page.read())"
     ],
     "language": "python",
     "metadata": {},
     "outputs": [],
     "prompt_number": 16
    },
    {
     "cell_type": "code",
     "collapsed": false,
     "input": [
      "tables = soup.find_all('tr')\n",
      "\n",
      "korean = []\n",
      "for t in tables:\n",
      "    korean += t.find_all('td', {'class': 'native', 'lang': 'ko-KR'})\n",
      "\n",
      "korean = [k.get_text() for k in korean]"
     ],
     "language": "python",
     "metadata": {},
     "outputs": [],
     "prompt_number": 22
    },
    {
     "cell_type": "code",
     "collapsed": false,
     "input": [
      "for text in korean:\n",
      "    print(text)\n",
      "    print(text.encode('utf-8'))"
     ],
     "language": "python",
     "metadata": {},
     "outputs": [
      {
       "output_type": "stream",
       "stream": "stdout",
       "text": [
        "\ub300\ud55c\ubbfc\uad6d\n",
        "b'\\xeb\\x8c\\x80\\xed\\x95\\x9c\\xeb\\xaf\\xbc\\xea\\xb5\\xad'\n",
        "\uc548\uc131\uae30\n",
        "b'\\xec\\x95\\x88\\xec\\x84\\xb1\\xea\\xb8\\xb0'\n",
        "\ub300\ud55c\ubbfc\uad6d\n",
        "b'\\xeb\\x8c\\x80\\xed\\x95\\x9c\\xeb\\xaf\\xbc\\xea\\xb5\\xad'\n",
        "\uc2ec\uc740\ud558\n",
        "b'\\xec\\x8b\\xac\\xec\\x9d\\x80\\xed\\x95\\x98'\n",
        "\uc870\uc120\n",
        "b'\\xec\\xa1\\xb0\\xec\\x84\\xa0'\n",
        "\uc185\u110c\u1169\u11f0 (\uc138\uc885\ub300\uc655)\n",
        "b'\\xec\\x86\\x85\\xe1\\x84\\x8c\\xe1\\x85\\xa9\\xe1\\x87\\xb0 (\\xec\\x84\\xb8\\xec\\xa2\\x85\\xeb\\x8c\\x80\\xec\\x99\\x95)'\n"
       ]
      }
     ],
     "prompt_number": 24
    },
    {
     "cell_type": "code",
     "collapsed": false,
     "input": [
      "with open('korean.txt', 'w') as outfile:\n",
      "    for text in korean:\n",
      "        print(text, file=outfile)"
     ],
     "language": "python",
     "metadata": {},
     "outputs": [],
     "prompt_number": 16
    }
   ],
   "metadata": {}
  }
 ]
}